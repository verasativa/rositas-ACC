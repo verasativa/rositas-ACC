{
 "cells": [
  {
   "cell_type": "code",
   "execution_count": 23,
   "metadata": {},
   "outputs": [],
   "source": [
    "import serial"
   ]
  },
  {
   "cell_type": "code",
   "execution_count": 24,
   "metadata": {},
   "outputs": [],
   "source": [
    "# sendSerialCommand: function for sending commands to the OPS-241B module\n",
    "def send_serial_cmd(print_prefix, command) :\n",
    "    data_for_send_str = command\n",
    "    data_for_send_bytes = str.encode(data_for_send_str)\n",
    "    print(print_prefix, command)\n",
    "    ser.write(data_for_send_bytes)\n",
    "    # Initialize message verify checking\n",
    "    ser_message_start = '{'\n",
    "    ser_write_verify = False\n",
    "    # Print out module response to command string\n",
    "    while not ser_write_verify :\n",
    "        data_rx_bytes = ser.readline()\n",
    "        data_rx_length = len(data_rx_bytes)\n",
    "        if (data_rx_length != 0) :\n",
    "            data_rx_str = str(data_rx_bytes)\n",
    "            if data_rx_str.find(ser_message_start) > 0:\n",
    "                print(data_rx_str)\n",
    "                ser_write_verify = True"
   ]
  },
  {
   "cell_type": "code",
   "execution_count": 25,
   "metadata": {},
   "outputs": [],
   "source": [
    "# Initialize the USB port to read from the OPS-241B module\n",
    "ser=serial.Serial(\n",
    "    port = '/dev/cu.usbmodemFA131',\n",
    "    baudrate = 115200,\n",
    "    parity = serial.PARITY_NONE,\n",
    "    stopbits = serial.STOPBITS_ONE,\n",
    "    bytesize = serial.EIGHTBITS,\n",
    "    timeout = 1,\n",
    "    writeTimeout = 2\n",
    ")\n",
    "ser.flushInput()\n",
    "ser.flushOutput()"
   ]
  },
  {
   "cell_type": "code",
   "execution_count": 26,
   "metadata": {},
   "outputs": [
    {
     "name": "stdout",
     "output_type": "stream",
     "text": [
      "Initializing Ops241C Module\n",
      "\n",
      "Set Output Units OFF:  ou\n",
      "b'{\"OutputFeature\":\"u\"}\\r\\n'\n"
     ]
    }
   ],
   "source": [
    "# Initialize and query Ops241C Module\n",
    "print(\"Initializing Ops241C Module\\n\")\n",
    "#send_serial_cmd(\"Module Information: \", '??')\n",
    "#print('\\n')\n",
    "send_serial_cmd(\"Set Output Units OFF: \", 'ou')"
   ]
  },
  {
   "cell_type": "code",
   "execution_count": 27,
   "metadata": {},
   "outputs": [],
   "source": [
    "# To wrap in a function\n",
    "def get_radar_data():\n",
    "    buffer_string = b''\n",
    "    while True:\n",
    "        buffer_string = buffer_string + ser.read(ser.inWaiting())\n",
    "        #print(buffer_string)\n",
    "        #exit()\n",
    "        if b'\\r\\n' in buffer_string:\n",
    "            lines = buffer_string.split(b'\\r\\n') # Guaranteed to have at least 2 entries\n",
    "            last_received = lines[-2]\n",
    "            #If the Arduino sends lots of empty lines, you'll lose the\n",
    "            #last filled line, so you could make the above statement conditional\n",
    "            #like so: if lines[-2]: last_received = lines[-2]\n",
    "            buffer_string = lines[-1]\n",
    "            yield float(last_received)"
   ]
  },
  {
   "cell_type": "code",
   "execution_count": 28,
   "metadata": {},
   "outputs": [
    {
     "data": {
      "application/vnd.jupyter.widget-view+json": {
       "model_id": "d66f55e133684717b17e08bb2615172f",
       "version_major": 2,
       "version_minor": 0
      },
      "text/plain": [
       "Canvas(toolbar=Toolbar(toolitems=[('Home', 'Reset original view', 'home', 'home'), ('Back', 'Back to previous …"
      ]
     },
     "metadata": {},
     "output_type": "display_data"
    }
   ],
   "source": [
    "%matplotlib widget\n",
    "import numpy as np\n",
    "from matplotlib.lines import Line2D\n",
    "import matplotlib.pyplot as plt\n",
    "import matplotlib.animation as animation\n",
    "\n",
    "\n",
    "class Scope(object):\n",
    "    def __init__(self, ax, maxt=40, dt=0.02):\n",
    "        self.ax = ax\n",
    "        self.dt = dt\n",
    "        self.maxt = maxt\n",
    "        self.tdata = [0]\n",
    "        self.ydata = [0]\n",
    "        self.line = Line2D(self.tdata, self.ydata)\n",
    "        self.ax.add_line(self.line)\n",
    "        self.ax.set_ylim(0, 15)\n",
    "        self.ax.set_xlim(0, self.maxt)\n",
    "\n",
    "    def update(self, y):\n",
    "        lastt = self.tdata[-1]\n",
    "        if lastt > self.tdata[0] + self.maxt:  # reset the arrays\n",
    "            self.tdata = [self.tdata[-1]]\n",
    "            self.ydata = [self.ydata[-1]]\n",
    "            self.ax.set_xlim(self.tdata[0], self.tdata[0] + self.maxt)\n",
    "            self.ax.figure.canvas.draw()\n",
    "\n",
    "        t = self.tdata[-1] + self.dt\n",
    "        self.tdata.append(t)\n",
    "        self.ydata.append(y)\n",
    "        self.line.set_data(self.tdata, self.ydata)\n",
    "        return self.line,\n",
    "\n",
    "\n",
    "fig, ax = plt.subplots()\n",
    "scope = Scope(ax)\n",
    "\n",
    "# pass a generator in \"emitter\" to produce data for the update func\n",
    "ani = animation.FuncAnimation(fig, scope.update, get_radar_data, interval=100,\n",
    "                              blit=True)\n",
    "\n",
    "plt.show()"
   ]
  },
  {
   "cell_type": "code",
   "execution_count": null,
   "metadata": {},
   "outputs": [],
   "source": []
  }
 ],
 "metadata": {
  "kernelspec": {
   "display_name": "Python 3",
   "language": "python",
   "name": "python3"
  },
  "language_info": {
   "codemirror_mode": {
    "name": "ipython",
    "version": 3
   },
   "file_extension": ".py",
   "mimetype": "text/x-python",
   "name": "python",
   "nbconvert_exporter": "python",
   "pygments_lexer": "ipython3",
   "version": "3.7.4"
  }
 },
 "nbformat": 4,
 "nbformat_minor": 4
}
