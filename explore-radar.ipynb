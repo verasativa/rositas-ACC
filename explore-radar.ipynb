{
 "cells": [
  {
   "cell_type": "code",
   "execution_count": 1,
   "metadata": {},
   "outputs": [],
   "source": [
    "import serial"
   ]
  },
  {
   "cell_type": "code",
   "execution_count": 2,
   "metadata": {},
   "outputs": [],
   "source": [
    "# sendSerialCommand: function for sending commands to the OPS-241B module\n",
    "def send_serial_cmd(print_prefix, command) :\n",
    "    data_for_send_str = command\n",
    "    data_for_send_bytes = str.encode(data_for_send_str)\n",
    "    print(print_prefix, command)\n",
    "    ser.write(data_for_send_bytes)\n",
    "    # Initialize message verify checking\n",
    "    ser_message_start = '{'\n",
    "    ser_write_verify = False\n",
    "    # Print out module response to command string\n",
    "    while not ser_write_verify :\n",
    "        data_rx_bytes = ser.readline()\n",
    "        data_rx_length = len(data_rx_bytes)\n",
    "        if (data_rx_length != 0) :\n",
    "            data_rx_str = str(data_rx_bytes)\n",
    "            if data_rx_str.find(ser_message_start) > 0:\n",
    "                print(data_rx_str)\n",
    "                ser_write_verify = True"
   ]
  },
  {
   "cell_type": "code",
   "execution_count": 3,
   "metadata": {},
   "outputs": [],
   "source": [
    "# Initialize the USB port to read from the OPS-241B module\n",
    "ser=serial.Serial(\n",
    "    port = '/dev/cu.usbmodemFD121',\n",
    "    baudrate = 115200,\n",
    "    parity = serial.PARITY_NONE,\n",
    "    stopbits = serial.STOPBITS_ONE,\n",
    "    bytesize = serial.EIGHTBITS,\n",
    "    timeout = 1,\n",
    "    writeTimeout = 2\n",
    ")\n",
    "ser.flushInput()\n",
    "ser.flushOutput()"
   ]
  },
  {
   "cell_type": "code",
   "execution_count": 4,
   "metadata": {},
   "outputs": [
    {
     "name": "stdout",
     "output_type": "stream",
     "text": [
      "Initializing Ops241C Module\n",
      "\n",
      "Set Output Units OFF:  ou\n",
      "b'{\"OutputFeature\":\"u\"}\\r\\n'\n"
     ]
    }
   ],
   "source": [
    "# Initialize and query Ops241C Module\n",
    "print(\"Initializing Ops241C Module\\n\")\n",
    "#send_serial_cmd(\"Module Information: \", '??')\n",
    "#print('\\n')\n",
    "send_serial_cmd(\"Set Output Units OFF: \", 'ou')"
   ]
  },
  {
   "cell_type": "code",
   "execution_count": 5,
   "metadata": {},
   "outputs": [],
   "source": [
    "# To wrap in a function\n",
    "def get_radar_data():\n",
    "    while True:\n",
    "        Ops241_rx_bytes = ser.readline()[:-2] # Check for range information from OPS241\n",
    "        Ops241_rx_bytes_length = len(Ops241_rx_bytes)\n",
    "        if (Ops241_rx_bytes_length != 0) :\n",
    "            Ops241_rx_str = Ops241_rx_bytes.decode(\"utf-8\")\n",
    "            #print(\"RX:\"+Ops241_rx_str)\n",
    "            if len(Ops241_rx_str) > 2 and Ops241_rx_str.find('{') == -1 :\n",
    "                # Speed data found\n",
    "                try:\n",
    "                    maybe_nums = Ops241_rx_str.split(',')\n",
    "        #            Ops241_mag_float = float(maybe_nums[0])\n",
    "                    Ops241_range_float = float(maybe_nums[0])\n",
    "                    yield Ops241_range_float\n",
    "                    range_available = True\n",
    "\n",
    "                except ValueError:\n",
    "                    print(\"Unable to convert the strings {} and {}\".format(maybe_nums[0],maybe_nums[1]) )\n",
    "                    range_available = False"
   ]
  },
  {
   "cell_type": "code",
   "execution_count": null,
   "metadata": {},
   "outputs": [],
   "source": [
    "%matplotlib widget\n",
    "import numpy as np\n",
    "from matplotlib.lines import Line2D\n",
    "import matplotlib.pyplot as plt\n",
    "import matplotlib.animation as animation\n",
    "\n",
    "\n",
    "class Scope(object):\n",
    "    def __init__(self, ax, maxt=60, dt=0.02):\n",
    "        self.ax = ax\n",
    "        self.dt = dt\n",
    "        self.maxt = maxt\n",
    "        self.tdata = [0]\n",
    "        self.ydata = [0]\n",
    "        self.line = Line2D(self.tdata, self.ydata)\n",
    "        self.ax.add_line(self.line)\n",
    "        self.ax.set_ylim(0, 15)\n",
    "        self.ax.set_xlim(0, self.maxt)\n",
    "\n",
    "    def update(self, y):\n",
    "        lastt = self.tdata[-1]\n",
    "        if lastt > self.tdata[0] + self.maxt:  # reset the arrays\n",
    "            self.tdata = [self.tdata[-1]]\n",
    "            self.ydata = [self.ydata[-1]]\n",
    "            self.ax.set_xlim(self.tdata[0], self.tdata[0] + self.maxt)\n",
    "            self.ax.figure.canvas.draw()\n",
    "\n",
    "        t = self.tdata[-1] + self.dt\n",
    "        self.tdata.append(t)\n",
    "        self.ydata.append(y)\n",
    "        self.line.set_data(self.tdata, self.ydata)\n",
    "        return self.line,\n",
    "\n",
    "\n",
    "fig, ax = plt.subplots()\n",
    "scope = Scope(ax)\n",
    "\n",
    "# pass a generator in \"emitter\" to produce data for the update func\n",
    "ani = animation.FuncAnimation(fig, scope.update, get_radar_data, interval=100,\n",
    "                              blit=True)\n",
    "\n",
    "plt.show()"
   ]
  },
  {
   "cell_type": "code",
   "execution_count": null,
   "metadata": {},
   "outputs": [],
   "source": []
  }
 ],
 "metadata": {
  "kernelspec": {
   "display_name": "Python 3",
   "language": "python",
   "name": "python3"
  },
  "language_info": {
   "codemirror_mode": {
    "name": "ipython",
    "version": 3
   },
   "file_extension": ".py",
   "mimetype": "text/x-python",
   "name": "python",
   "nbconvert_exporter": "python",
   "pygments_lexer": "ipython3",
   "version": "3.7.4"
  }
 },
 "nbformat": 4,
 "nbformat_minor": 4
}
