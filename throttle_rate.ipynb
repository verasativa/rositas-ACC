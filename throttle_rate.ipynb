{
 "cells": [
  {
   "cell_type": "markdown",
   "metadata": {},
   "source": [
    "# Let's build a nice ```get_throtte_rate``` function"
   ]
  },
  {
   "cell_type": "code",
   "execution_count": 49,
   "metadata": {},
   "outputs": [],
   "source": [
    "top_rate = 255\n",
    "full_throtte_distance = 15\n",
    "no_throttle_distance = 1\n",
    "\n",
    "import math\n",
    "\n",
    "def get_throtte_rate(distance):\n",
    "    if distance < no_throttle_distance:\n",
    "        return 0\n",
    "    actionable_range = (full_throtte_distance - no_throttle_distance)\n",
    "    rate = math.sqrt(top_rate) / actionable_range\n",
    "    throtte_rate = ((distance - no_throttle_distance) * rate) ** 2\n",
    "    throtte_rate += 100\n",
    "    if throtte_rate > top_rate:\n",
    "        return top_rate\n",
    "    return throtte_rate"
   ]
  },
  {
   "cell_type": "code",
   "execution_count": 50,
   "metadata": {},
   "outputs": [],
   "source": [
    "import numpy as np\n",
    "import pandas as pd\n",
    "\n",
    "rdata = np.arange(0.0, full_throtte_distance + 1, 0.1)\n",
    "df = pd.DataFrame(rdata, columns=['distance'])\n",
    "df['throtte'] = df.distance.apply(get_throtte_rate)"
   ]
  },
  {
   "cell_type": "code",
   "execution_count": 52,
   "metadata": {},
   "outputs": [
    {
     "data": {
      "text/plain": [
       "<matplotlib.axes._subplots.AxesSubplot at 0x1120c9cd0>"
      ]
     },
     "execution_count": 52,
     "metadata": {},
     "output_type": "execute_result"
    },
    {
     "data": {
      "image/png": "[encoded data removed]",
      "text/plain": [
       "<Figure size 864x432 with 1 Axes>"
      ]
     },
     "metadata": {
      "needs_background": "light"
     },
     "output_type": "display_data"
    }
   ],
   "source": [
    "%matplotlib inline\n",
    "import matplotlib.pyplot as plt\n",
    "\n",
    "fig = plt.figure(figsize=(12, 6))\n",
    "\n",
    "df['tr'] = df.throtte / 255 * 5\n",
    "df.set_index('distance').tr.plot()"
   ]
  },
  {
   "cell_type": "markdown",
   "metadata": {},
   "source": [
    "# Let be speed be added to the calculation"
   ]
  },
  {
   "cell_type": "markdown",
   "metadata": {},
   "source": [
    "## Minimun speed"
   ]
  },
  {
   "cell_type": "code",
   "execution_count": 1,
   "metadata": {},
   "outputs": [
    {
     "data": {
      "text/plain": [
       "1.4400000000000002"
      ]
     },
     "execution_count": 1,
     "metadata": {},
     "output_type": "execute_result"
    }
   ],
   "source": [
    "wheel_diameter = 1200\n",
    "max_pulse_readable = 3000\n",
    "wheel_diameter / max_pulse_readable * 3.6"
   ]
  },
  {
   "cell_type": "markdown",
   "metadata": {},
   "source": [
    "## Don't break below"
   ]
  },
  {
   "cell_type": "code",
   "execution_count": 3,
   "metadata": {},
   "outputs": [
    {
     "data": {
      "text/plain": [
       "4.32"
      ]
     },
     "execution_count": 3,
     "metadata": {},
     "output_type": "execute_result"
    }
   ],
   "source": [
    "min_break_speed = wheel_diameter / 1000 # One rotation per minute\n",
    "wheel_diameter / 1000 * 3.6 # Kph"
   ]
  },
  {
   "cell_type": "markdown",
   "metadata": {},
   "source": [
    "## Values need to be set from real world testing"
   ]
  },
  {
   "cell_type": "code",
   "execution_count": 4,
   "metadata": {},
   "outputs": [
    {
     "data": {
      "text/plain": [
       "40.68888888888888"
      ]
     },
     "execution_count": 4,
     "metadata": {},
     "output_type": "execute_result"
    }
   ],
   "source": [
    "test_speed_kph = 40.3\n",
    "test_breaking_distance = 18.3\n",
    "warning_secs = 2\n",
    "\n",
    "test_speed_ms = test_speed_kph / 3.6\n",
    "warning_distance_at_test_speed = test_breaking_distance + (test_speed_ms * warning_secs)\n",
    "warning_distance_at_test_speed"
   ]
  },
  {
   "cell_type": "code",
   "execution_count": null,
   "metadata": {},
   "outputs": [],
   "source": [
    "import math\n",
    "\n",
    "def breaking_distance(speed):\n",
    "    if speed < min_break_speed:\n",
    "        return 0\n",
    "    \n",
    "    \n",
    "    \n",
    "    \n",
    "    \n",
    "    \n",
    "    \n",
    "    \n",
    "    \n",
    "    "
   ]
  },
  {
   "cell_type": "markdown",
   "metadata": {},
   "source": [
    "## New get_throtte_rate"
   ]
  },
  {
   "cell_type": "code",
   "execution_count": null,
   "metadata": {},
   "outputs": [],
   "source": [
    "def get_throtte_rate(distance, speed):\n",
    "    if distance < no_throttle_distance:\n",
    "        return 0\n",
    "    actionable_range = (full_throtte_distance - no_throttle_distance)\n",
    "    rate = math.sqrt(top_rate) / actionable_range\n",
    "    throtte_rate = ((distance - no_throttle_distance) * rate) ** 2\n",
    "    throtte_rate += 100\n",
    "    if throtte_rate > top_rate:\n",
    "        return top_rate\n",
    "    return throtte_rate"
   ]
  }
 ],
 "metadata": {
  "kernelspec": {
   "display_name": "Python 3",
   "language": "python",
   "name": "python3"
  },
  "language_info": {
   "codemirror_mode": {
    "name": "ipython",
    "version": 3
   },
   "file_extension": ".py",
   "mimetype": "text/x-python",
   "name": "python",
   "nbconvert_exporter": "python",
   "pygments_lexer": "ipython3",
   "version": "3.7.4"
  }
 },
 "nbformat": 4,
 "nbformat_minor": 4
}
